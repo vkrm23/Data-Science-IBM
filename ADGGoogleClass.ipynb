{
 "metadata": {
  "language_info": {
   "codemirror_mode": {
    "name": "ipython",
    "version": 3
   },
   "file_extension": ".py",
   "mimetype": "text/x-python",
   "name": "python",
   "nbconvert_exporter": "python",
   "pygments_lexer": "ipython3",
   "version": "3.8.5"
  },
  "orig_nbformat": 4,
  "kernelspec": {
   "name": "python3",
   "display_name": "Python 3.8.5 64-bit"
  },
  "interpreter": {
   "hash": "c3ae22b844db142b40ee44c017e19b92c4d7208685f48a9abdf5417629f14980"
  }
 },
 "nbformat": 4,
 "nbformat_minor": 2,
 "cells": [
  {
   "cell_type": "code",
   "execution_count": 1,
   "metadata": {},
   "outputs": [],
   "source": [
    "#ADGSTUDIOS 2021 - ADGGOOGLEMAPS\n",
    "\n",
    "import googlemaps\n",
    "import requests\n",
    "import json\n",
    "from __future__ import print_function\n",
    "import folium\n",
    "\n",
    "class ADGGoogleMaps:\n",
    "    def __init__(self, google_api_secret, address):\n",
    "        self.google_api_secret = google_api_secret\n",
    "        self.address = address\n",
    "        self.gmaps = googlemaps.Client(key=self.google_api_secret)\n",
    "        self.geocode_result = self.gmaps.geocode(self.address)\n",
    "        self.json_format = json.dumps(self.geocode_result)\n",
    "        self.results = []\n",
    "\n",
    "    def GetCordsFromAddress(self):\n",
    "        cords = self.findvalues('location', self.json_format)\n",
    "        locationdict = cords[0]\n",
    "        cords = list(locationdict.values())\n",
    "        return cords\n",
    "\n",
    "    def findvalues(self, id, json_repr):\n",
    "        results = []\n",
    "\n",
    "        def _decode_dict(a_dict):\n",
    "            try:\n",
    "                results.append(a_dict[id])\n",
    "            except KeyError:\n",
    "                pass\n",
    "            return a_dict\n",
    "        json.loads(json_repr, object_hook=_decode_dict)\n",
    "        return results\n",
    "\n",
    "    def ReturnMap(self,size):\n",
    "        mapit = folium.Map( location=self.GetCordsFromAddress(),zoom_start = size)\n",
    "        return mapit"
   ]
  },
  {
   "cell_type": "code",
   "execution_count": null,
   "metadata": {},
   "outputs": [],
   "source": []
  }
 ]
}